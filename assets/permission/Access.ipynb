{
 "cells": [
  {
   "cell_type": "code",
   "execution_count": 14,
   "metadata": {},
   "outputs": [],
   "source": [
    "import sqlite3\n",
    "from time import time\n",
    "from hashlib import sha256\n",
    "from struct import Struct"
   ]
  },
  {
   "cell_type": "code",
   "execution_count": 2,
   "metadata": {},
   "outputs": [],
   "source": [
    "conn = sqlite3.connect('tests.db')"
   ]
  },
  {
   "cell_type": "code",
   "execution_count": 3,
   "metadata": {},
   "outputs": [],
   "source": [
    "cur = conn.cursor()"
   ]
  },
  {
   "cell_type": "code",
   "execution_count": 4,
   "metadata": {},
   "outputs": [],
   "source": [
    "CREATETABLE = '''CREATE TABLE IF NOT EXISTS ACCESS (\n",
    "    SHA256 BLOB PRIMARY KEY,\n",
    "    ACCESS_TIME_FROM TIMESTAMP,\n",
    "    ACCESS_TIME_ACTIVE TIMESTAMP\n",
    "    );'''\n"
   ]
  },
  {
   "cell_type": "code",
   "execution_count": 5,
   "metadata": {},
   "outputs": [
    {
     "data": {
      "text/plain": [
       "<sqlite3.Cursor at 0x26f9f2dfa40>"
      ]
     },
     "execution_count": 5,
     "metadata": {},
     "output_type": "execute_result"
    }
   ],
   "source": [
    "cur.execute(CREATETABLE)"
   ]
  },
  {
   "cell_type": "code",
   "execution_count": 18,
   "metadata": {},
   "outputs": [],
   "source": [
    "def id2SHA256(id: int) -> bytes:\n",
    "    return sha256(Struct('<Q').pack(id)).digest()"
   ]
  },
  {
   "cell_type": "code",
   "execution_count": 19,
   "metadata": {},
   "outputs": [],
   "source": [
    "def addAccess(id: int, active: int):\n",
    "    cur.execute('INSERT INTO ACCESS (SHA256, ACCESS_TIME_FROM, ACCESS_TIME_ACTIVE) VALUES (?, ?, ?)', (id2SHA256(id), time(), active))\n",
    "    return True"
   ]
  },
  {
   "cell_type": "code",
   "execution_count": 20,
   "metadata": {},
   "outputs": [
    {
     "data": {
      "text/plain": [
       "True"
      ]
     },
     "execution_count": 20,
     "metadata": {},
     "output_type": "execute_result"
    }
   ],
   "source": [
    "id = int(time())\n",
    "addAccess(id, 100)"
   ]
  },
  {
   "cell_type": "code",
   "execution_count": 22,
   "metadata": {},
   "outputs": [
    {
     "data": {
      "text/plain": [
       "[(b'\\xdff\\xdd\\x84\\xfa\\xf3\\x17\\xa5\\t{\\x8e\\xd0[\\xf9\\x14\\x135;\\xf41A\\xea\\xab4\\xc1\\xb3\\x85 >\\xf8\\xd6\\xff',\n",
       "  1735815028.2487888,\n",
       "  100)]"
      ]
     },
     "execution_count": 22,
     "metadata": {},
     "output_type": "execute_result"
    }
   ],
   "source": []
  }
 ],
 "metadata": {
  "kernelspec": {
   "display_name": ".venv",
   "language": "python",
   "name": "python3"
  },
  "language_info": {
   "codemirror_mode": {
    "name": "ipython",
    "version": 3
   },
   "file_extension": ".py",
   "mimetype": "text/x-python",
   "name": "python",
   "nbconvert_exporter": "python",
   "pygments_lexer": "ipython3",
   "version": "3.11.9"
  }
 },
 "nbformat": 4,
 "nbformat_minor": 2
}
